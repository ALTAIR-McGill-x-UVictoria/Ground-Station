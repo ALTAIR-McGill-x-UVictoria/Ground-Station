{
 "cells": [
  {
   "cell_type": "code",
   "execution_count": 1,
   "id": "4df4bc66",
   "metadata": {},
   "outputs": [],
   "source": [
    "import astropy\n",
    "import numpy as np\n",
    "from astropy.coordinates import EarthLocation, AltAz, ICRS\n",
    "from astropy.time import Time\n",
    "from astropy import units as u\n",
    "\n"
   ]
  },
  {
   "cell_type": "code",
   "execution_count": null,
   "id": "dbfa7bd0",
   "metadata": {},
   "outputs": [],
   "source": [
    "def altaz_to_ra_dec(lat, lon, alt, altitude_deg, azimuth_deg, utc_time_usec):\n",
    "    \"\"\"\n",
    "    Convert altitude/azimuth angles to Right Ascension and Declination\n",
    "    \n",
    "    Parameters:\n",
    "    lat (float): GPS Latitude in degrees\n",
    "    lon (float): GPS Longitude in degrees  \n",
    "    alt (float): GPS Altitude in meters\n",
    "    altitude_deg (float): Altitude angle in degrees (0=horizon, 90=zenith)\n",
    "    azimuth_deg (float): Azimuth angle in degrees (0=North, 90=East, 180=South, 270=West)\n",
    "    utc_time_usec (int): UTC time in microseconds since Unix epoch\n",
    "    \n",
    "    Returns:\n",
    "    tuple: (right_ascension, declination) in degrees\n",
    "    \"\"\"\n",
    "    # Convert microseconds to seconds and create Time object\n",
    "    utc_time_sec = utc_time_usec / 1e6\n",
    "    time = Time(utc_time_sec, format='unix')\n",
    "    \n",
    "    # Create Earth location from GPS coordinates\n",
    "    location = EarthLocation(lat=lat*u.deg, lon=lon*u.deg, height=alt*u.m)\n",
    "    \n",
    "    # Create AltAz coordinate with specified altitude and azimuth\n",
    "    altaz_coord = AltAz(alt=altitude_deg*u.deg, az=azimuth_deg*u.deg, \n",
    "                        obstime=time, location=location)\n",
    "    \n",
    "    # Transform to ICRS (International Celestial Reference System) coordinates\n",
    "    icrs_coord = altaz_coord.transform_to(ICRS())\n",
    "    \n",
    "    # Extract RA and Dec in degrees\n",
    "    ra = icrs_coord.ra.degree\n",
    "    dec = icrs_coord.dec.degree\n",
    "    \n",
    "    return ra, dec"
   ]
  },
  {
   "cell_type": "code",
   "execution_count": null,
   "id": "88c09298",
   "metadata": {},
   "outputs": [
    {
     "name": "stdout",
     "output_type": "stream",
     "text": [
      "Right Ascension: 352.987154 degrees\n",
      "Declination: 37.646477 degrees\n"
     ]
    }
   ],
   "source": [
    "# Example usage\n",
    "latitude = 37.7749    # degrees\n",
    "longitude = -122.4194 # degrees\n",
    "altitude = 100.0      # meters\n",
    "utc_time = 1691404800000000  # microseconds (example timestamp)\n",
    "\n",
    "# Define pointing direction in Alt-Az coordinates\n",
    "altitude_angle = 45.0  # degrees above horizon\n",
    "azimuth_angle = 180.0  # degrees (South)\n",
    "\n",
    "ra, dec = altaz_to_ra_dec(latitude, longitude, altitude, altitude_angle, azimuth_angle, utc_time)\n",
    "print(f\"Pointing at Alt={altitude_angle}°, Az={azimuth_angle}°\")\n",
    "print(f\"Right Ascension: {ra:.6f} degrees\")\n",
    "print(f\"Declination: {dec:.6f} degrees\")\n",
    "\n",
    "# Convert to hours:minutes:seconds format for RA\n",
    "ra_hours = ra / 15.0  # Convert degrees to hours\n",
    "ra_h = int(ra_hours)\n",
    "ra_m = int((ra_hours - ra_h) * 60)\n",
    "ra_s = ((ra_hours - ra_h) * 60 - ra_m) * 60\n",
    "\n",
    "print(f\"RA in HMS: {ra_h:02d}h {ra_m:02d}m {ra_s:05.2f}s\")\n",
    "print(f\"Dec in DMS: {dec:.6f}° ({int(dec)}° {int(abs(dec - int(dec)) * 60)}\\' {((abs(dec - int(dec)) * 60) % 1) * 60:.1f}\\\")\")"
   ]
  }
 ],
 "metadata": {
  "kernelspec": {
   "display_name": "base",
   "language": "python",
   "name": "python3"
  },
  "language_info": {
   "codemirror_mode": {
    "name": "ipython",
    "version": 3
   },
   "file_extension": ".py",
   "mimetype": "text/x-python",
   "name": "python",
   "nbconvert_exporter": "python",
   "pygments_lexer": "ipython3",
   "version": "3.12.9"
  }
 },
 "nbformat": 4,
 "nbformat_minor": 5
}
